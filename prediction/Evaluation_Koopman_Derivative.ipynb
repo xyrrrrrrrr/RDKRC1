{
 "cells": [
  {
   "cell_type": "code",
   "execution_count": 1,
   "metadata": {},
   "outputs": [
    {
     "name": "stderr",
     "output_type": "stream",
     "text": [
      "Gym has been unmaintained since 2022 and does not support NumPy 2.0 amongst other critical functionality.\n",
      "Please upgrade to Gymnasium, the maintained drop-in replacement of Gym, or contact the authors of your software and request that they upgrade.\n",
      "See the migration guide at https://gymnasium.farama.org/introduction/migration_guide/ for additional information.\n"
     ]
    }
   ],
   "source": [
    "import numpy as np\n",
    "import random\n",
    "import scipy.linalg\n",
    "import gym\n",
    "import os\n",
    "import sys\n",
    "sys.path.append(\"../utility\")\n",
    "sys.path.append(\"../gym_env\")\n",
    "sys.path.append(\"../\")\n",
    "from utility.Utility import DerivativeLiftFunc, data_collecter"
   ]
  },
  {
   "cell_type": "code",
   "execution_count": 2,
   "metadata": {},
   "outputs": [],
   "source": [
    "ENV = [\"DampingPendulum\",\"Pendulum-v1\",\"CartPole-v1\",\"MountainCarContinuous-v0\"]"
   ]
  },
  {
   "cell_type": "code",
   "execution_count": 3,
   "metadata": {},
   "outputs": [],
   "source": [
    "def evalKoopmanD(env_index,samples=20000):\n",
    "    env_name = ENV[env_index]\n",
    "    print(env_name)\n",
    "    Data_collecter = data_collecter(env_name)\n",
    "    Nstate = Data_collecter.Nstates\n",
    "    udim = Data_collecter.udim\n",
    "    LiftFunc = DerivativeLiftFunc(env_name,Nstate,udim)\n",
    "    NKoopman = LiftFunc.NKoopman\n",
    "    test_Samples = 5000\n",
    "    Steps = 30\n",
    "    random.seed(1)\n",
    "    np.random.seed(1)\n",
    "    def A_and_G_o(s_1, s_2, u): # Uses measurements s(t_k) & s(t_{k+1}) to calculate A and G\n",
    "        A = np.dot(LiftFunc.Psi_su(s_2, u).reshape(-1,1), LiftFunc.Psi_su(s_1, u).reshape(1,-1))\n",
    "        # print(A.shape)\n",
    "        G = np.dot(LiftFunc.Psi_su(s_1, u).reshape(-1,1), LiftFunc.Psi_su(s_1, u).reshape(1,-1))\n",
    "        return A, G\n",
    "\n",
    "    np.random.seed(1)\n",
    "    env = Data_collecter.env\n",
    "    env.reset()\n",
    "    Samples = samples*15\n",
    "    A = np.zeros((NKoopman+1, NKoopman+1))\n",
    "    G = np.zeros((NKoopman+1, NKoopman+1))\n",
    "\n",
    "    Ps0_list = np.empty((Samples,NKoopman+1))\n",
    "    Psi_list = np.empty((Samples,NKoopman+1))\n",
    "\n",
    "    for i in range (Samples):\n",
    "\n",
    "        # Sample states\n",
    "        s0 = Data_collecter.random_state()\n",
    "        u10 = np.random.uniform(Data_collecter.umin, Data_collecter.umax)\n",
    "\n",
    "        # Simulate system forward\n",
    "        env.reset_state(s0)\n",
    "        sn = env.step(u10)\n",
    "        sn = sn[0]\n",
    "        # sn = odeint(single_pendulum, s0, [0, ts], args=(u10,))\n",
    "        # sn = sn[-1,:]   \n",
    "\n",
    "        # Evaluate basis functions at t = 0 and t = ts\n",
    "        Ps0_list[i,:] = LiftFunc.Psi_su(s0, u10).reshape(-1)\n",
    "        Psi_list[i,:] = LiftFunc.Psi_su(sn, u10).reshape(-1)\n",
    "\n",
    "        [Atemp, Gtemp] = A_and_G_o(s0,sn,u10)\n",
    "        A = A+Atemp\n",
    "        G = G+Gtemp\n",
    "\n",
    "    Kd = np.dot(A,scipy.linalg.pinv(G)) # more accurate than numpy\n",
    "    # print(\"The identified Koopman operator is \\n\", Kd)\n",
    "    eig = np.linalg.eigvals(Kd)\n",
    "    print(\"max eig val:{}\".format(max(eig)))\n",
    "\n",
    "    ## Measure maximum local (across one time step) errors in Ψ(s_{k+1}) - Kd*Ψ(s_k)\n",
    "    local_errors = np.empty([Samples, NKoopman+1])\n",
    "    for i in range(Samples):\n",
    "        local_errors[i,:] = abs(Psi_list[i,:]- np.dot(Kd,Ps0_list[i,:]))\n",
    "    max_local_errors = np.amax(local_errors, axis = 0)\n",
    "    print('Max local errors in theta: {}'.format(max_local_errors[:Nstate]))\n",
    "    np.save(\"../Prediction_Results/Samples/\"+\"Kd_\"+env_name+\"_KoopmanDerivativesample{}\".format(sample)+\".npy\",Kd)  \n",
    "    times = 4 \n",
    "    max_loss_all = np.zeros((times,Steps))\n",
    "    mean_loss_all = np.zeros((times,Steps))\n",
    "    for t in range(times):\n",
    "        test_data_path = \"../Data/{}{}.npy\".format(env_name,t)\n",
    "        if os.path.exists(test_data_path):\n",
    "            test_data = np.load(\"../Data/{}{}.npy\".format(env_name,t))\n",
    "        else:\n",
    "            test_data = Data_collecter.collect_koopman_data(test_Samples,Steps)\n",
    "            np.save(\"../Data/{}{}.npy\".format(env_name,i),test_data)\n",
    "        X_current = test_data[0,:,:]\n",
    "        X_current_lift = np.zeros((test_Samples,NKoopman+udim))\n",
    "        maxloss_list = []\n",
    "        meanloss_list = []\n",
    "        for i in range(test_Samples):\n",
    "            X_current_lift[i] = LiftFunc.Psi_su(X_current[i,udim:],X_current[i,:udim])\n",
    "        for i in range(Steps):\n",
    "            X_current_lift = np.dot(X_current_lift,Kd.T)\n",
    "            X_current_lift[:,NKoopman:] = test_data[i+1,:,:udim]\n",
    "            Err = X_current_lift[:,:Nstate] - test_data[i+1,:,udim:]\n",
    "            maxloss = np.mean(np.max(abs(Err),axis=0))\n",
    "            meanloss = np.mean(np.mean(abs(Err),axis=0))\n",
    "            maxloss_list.append(maxloss)\n",
    "            meanloss_list.append(meanloss)\n",
    "        max_loss_all[t] = np.array(maxloss_list).reshape(-1)\n",
    "        mean_loss_all[t] = np.array(meanloss_list).reshape(-1)\n",
    "    max_mean = np.mean(max_loss_all,axis=0)\n",
    "    max_std = np.std(max_loss_all,axis=0)\n",
    "    mean_mean =  np.mean(mean_loss_all,axis=0)\n",
    "    mean_std =  np.std(mean_loss_all,axis=0)  \n",
    "    np.save(\"../Prediction_Results/Samples/\"+env_name+\"_KoopmanDerivativesamples{}\".format(samples)+\".npy\",np.array([max_mean,max_std,mean_mean,mean_std]))\n",
    "    return max_mean,max_std,mean_mean,mean_std "
   ]
  },
  {
   "cell_type": "code",
   "execution_count": 4,
   "metadata": {},
   "outputs": [
    {
     "name": "stdout",
     "output_type": "stream",
     "text": [
      "DampingPendulum\n"
     ]
    },
    {
     "name": "stdout",
     "output_type": "stream",
     "text": [
      "max eig val:(0.9999999999999996+0j)\n",
      "Max local errors in theta: [0.00163031 0.1622848 ]\n",
      "DampingPendulum\n",
      "max eig val:(1.0000000000000004+0j)\n",
      "Max local errors in theta: [0.00161491 0.16054463]\n",
      "DampingPendulum\n",
      "max eig val:(1.0000000000000002+0j)\n",
      "Max local errors in theta: [0.00158888 0.15841206]\n",
      "DampingPendulum\n",
      "max eig val:(1.0000000000000004+0j)\n",
      "Max local errors in theta: [0.0015913  0.15865589]\n",
      "DampingPendulum\n",
      "max eig val:(0.999999999999999+0j)\n",
      "Max local errors in theta: [0.00159068 0.15851301]\n"
     ]
    }
   ],
   "source": [
    "for sample in [200, 1000, 5000, 20000, 50000]:\n",
    "     evalKoopmanD(0,sample)"
   ]
  },
  {
   "cell_type": "code",
   "execution_count": 5,
   "metadata": {},
   "outputs": [],
   "source": [
    "# for sample in [200]:\n",
    "#      evalKoopmanD(1,sample)"
   ]
  },
  {
   "cell_type": "code",
   "execution_count": 6,
   "metadata": {},
   "outputs": [],
   "source": [
    "# for sample in [200]:\n",
    "#      evalKoopmanD(2,sample)"
   ]
  },
  {
   "cell_type": "code",
   "execution_count": 7,
   "metadata": {},
   "outputs": [],
   "source": [
    "# for sample in [200]:\n",
    "#      evalKoopmanD(3,sample)"
   ]
  }
 ],
 "metadata": {
  "kernelspec": {
   "display_name": "DL",
   "language": "python",
   "name": "python3"
  },
  "language_info": {
   "codemirror_mode": {
    "name": "ipython",
    "version": 3
   },
   "file_extension": ".py",
   "mimetype": "text/x-python",
   "name": "python",
   "nbconvert_exporter": "python",
   "pygments_lexer": "ipython3",
   "version": "3.9.20"
  },
  "orig_nbformat": 4
 },
 "nbformat": 4,
 "nbformat_minor": 2
}
