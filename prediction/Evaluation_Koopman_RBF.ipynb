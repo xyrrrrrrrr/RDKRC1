{
 "cells": [
  {
   "cell_type": "code",
   "execution_count": 5,
   "metadata": {},
   "outputs": [],
   "source": [
    "import numpy as np\n",
    "import random\n",
    "import scipy.linalg\n",
    "import gym\n",
    "import sys\n",
    "import os\n",
    "sys.path.append(\"../utility\")\n",
    "sys.path.append(\"../train\")\n",
    "from Utility import DerivativeLiftFunc, data_collecter,RBFLiftFunc"
   ]
  },
  {
   "cell_type": "code",
   "execution_count": 6,
   "metadata": {},
   "outputs": [],
   "source": [
    "ENV = [\"DampingPendulum\",\"Pendulum-v1\",\"CartPole-v1\",\"MountainCarContinuous-v0\",\"Franka\",\"DoublePendulum\"]"
   ]
  },
  {
   "cell_type": "code",
   "execution_count": null,
   "metadata": {},
   "outputs": [],
   "source": [
    "def evalKoopmanD(env_index,sample):\n",
    "    env_name = ENV[env_index]\n",
    "    print(env_name)\n",
    "    random.seed(1)\n",
    "    np.random.seed(1)\n",
    "    Data_collecter = data_collecter(env_name)\n",
    "    Nstate = Data_collecter.Nstates\n",
    "    udim = Data_collecter.udim\n",
    "    Nrbf = 50\n",
    "    LiftFunc = RBFLiftFunc(env_name,Nstate,udim,Nrbf,Data_collecter.observation_space)\n",
    "    NKoopman = LiftFunc.NKoopman\n",
    "    test_Samples = 5000\n",
    "    Steps = 30\n",
    "    train_data = Data_collecter.collect_koopman_data(sample*15,1)\n",
    "    X_lift = LiftFunc.Psi_su(train_data[0,:,udim:],train_data[0,:,:udim])\n",
    "    Y_lift = LiftFunc.Psi_su(train_data[1,:,udim:],train_data[0,:,:udim])\n",
    "    XX = np.dot(X_lift.T,X_lift)\n",
    "    XY = np.dot(X_lift.T,Y_lift)\n",
    "    Kd = np.dot(scipy.linalg.pinv(XX),XY).T  \n",
    "    np.savez(\"../Prediction_Results/Samples/\"+\"Kd_\"+env_name+\"_KoopmanRBFsamples{}\".format(sample)+\".npz\",Kd=Kd,Center=LiftFunc.center)  \n",
    "    times = 4 \n",
    "    max_loss_all = np.zeros((times,Steps))\n",
    "    mean_loss_all = np.zeros((times,Steps))\n",
    "    for t in range(times):\n",
    "        test_data_path = \"../Data/{}{}.npy\".format(env_name,t)\n",
    "        if os.path.exists(test_data_path):\n",
    "            test_data = np.load(\"../Data/{}{}.npy\".format(env_name,t))\n",
    "        else:\n",
    "            test_data = Data_collecter.collect_koopman_data(test_Samples,Steps)\n",
    "            np.save(\"../Data/{}{}.npy\".format(env_name,t),test_data)\n",
    "        X_current = test_data[0,:,:]\n",
    "        X_current_lift = np.zeros((test_Samples,NKoopman+udim))\n",
    "        maxloss_list = []\n",
    "        meanloss_list = []\n",
    "        for i in range(test_Samples):\n",
    "            X_current_lift[i] = LiftFunc.Psi_su(X_current[i,udim:],X_current[i,:udim])\n",
    "        for i in range(Steps):\n",
    "            X_current_lift = np.dot(X_current_lift,Kd.T)\n",
    "            X_current_lift[:,NKoopman:] = test_data[i+1,:,:udim]\n",
    "            Err = X_current_lift[:,:Nstate] - test_data[i+1,:,udim:]\n",
    "            maxloss = np.mean(np.max(abs(Err),axis=0))\n",
    "            meanloss = np.mean(np.mean(abs(Err),axis=0))\n",
    "            maxloss_list.append(maxloss)\n",
    "            meanloss_list.append(meanloss)\n",
    "        max_loss_all[t] = np.array(maxloss_list).reshape(-1)\n",
    "        mean_loss_all[t] = np.array(meanloss_list).reshape(-1)\n",
    "    max_mean = np.mean(max_loss_all,axis=0)\n",
    "    max_std = np.std(max_loss_all,axis=0)\n",
    "    mean_mean =  np.mean(mean_loss_all,axis=0)\n",
    "    mean_std =  np.std(mean_loss_all,axis=0)  \n",
    "    np.save(\"../Prediction_Results/Samples/\"+env_name+\"_KoopmanRBFsamples{}\".format(sample)+\".npy\",np.array([max_mean,max_std,mean_mean,mean_std]))\n",
    "    return max_mean,max_std,mean_mean,mean_std "
   ]
  },
  {
   "cell_type": "code",
   "execution_count": 8,
   "metadata": {},
   "outputs": [
    {
     "name": "stdout",
     "output_type": "stream",
     "text": [
      "DampingPendulum\n"
     ]
    },
    {
     "ename": "UnboundLocalError",
     "evalue": "local variable 'i' referenced before assignment",
     "output_type": "error",
     "traceback": [
      "\u001b[0;31m---------------------------------------------------------------------------\u001b[0m",
      "\u001b[0;31mUnboundLocalError\u001b[0m                         Traceback (most recent call last)",
      "Cell \u001b[0;32mIn[8], line 2\u001b[0m\n\u001b[1;32m      1\u001b[0m \u001b[38;5;28;01mfor\u001b[39;00m sample \u001b[38;5;129;01min\u001b[39;00m [\u001b[38;5;241m200\u001b[39m]:\n\u001b[0;32m----> 2\u001b[0m      \u001b[43mevalKoopmanD\u001b[49m\u001b[43m(\u001b[49m\u001b[38;5;241;43m0\u001b[39;49m\u001b[43m,\u001b[49m\u001b[43msample\u001b[49m\u001b[43m)\u001b[49m\n",
      "Cell \u001b[0;32mIn[7], line 30\u001b[0m, in \u001b[0;36mevalKoopmanD\u001b[0;34m(env_index, sample)\u001b[0m\n\u001b[1;32m     28\u001b[0m \u001b[38;5;28;01melse\u001b[39;00m:\n\u001b[1;32m     29\u001b[0m     test_data \u001b[38;5;241m=\u001b[39m Data_collecter\u001b[38;5;241m.\u001b[39mcollect_koopman_data(test_Samples,Steps)\n\u001b[0;32m---> 30\u001b[0m     np\u001b[38;5;241m.\u001b[39msave(\u001b[38;5;124m\"\u001b[39m\u001b[38;5;124m../Data/\u001b[39m\u001b[38;5;132;01m{}\u001b[39;00m\u001b[38;5;132;01m{}\u001b[39;00m\u001b[38;5;124m.npy\u001b[39m\u001b[38;5;124m\"\u001b[39m\u001b[38;5;241m.\u001b[39mformat(env_name,\u001b[43mi\u001b[49m),test_data)\n\u001b[1;32m     31\u001b[0m X_current \u001b[38;5;241m=\u001b[39m test_data[\u001b[38;5;241m0\u001b[39m,:,:]\n\u001b[1;32m     32\u001b[0m X_current_lift \u001b[38;5;241m=\u001b[39m np\u001b[38;5;241m.\u001b[39mzeros((test_Samples,NKoopman\u001b[38;5;241m+\u001b[39mudim))\n",
      "\u001b[0;31mUnboundLocalError\u001b[0m: local variable 'i' referenced before assignment"
     ]
    }
   ],
   "source": [
    "for sample in [200]:\n",
    "     evalKoopmanD(0,sample)"
   ]
  }
 ],
 "metadata": {
  "kernelspec": {
   "display_name": "DL",
   "language": "python",
   "name": "python3"
  },
  "language_info": {
   "codemirror_mode": {
    "name": "ipython",
    "version": 3
   },
   "file_extension": ".py",
   "mimetype": "text/x-python",
   "name": "python",
   "nbconvert_exporter": "python",
   "pygments_lexer": "ipython3",
   "version": "3.9.20"
  },
  "orig_nbformat": 4
 },
 "nbformat": 4,
 "nbformat_minor": 2
}
